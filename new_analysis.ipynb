{
 "cells": [
  {
   "cell_type": "markdown",
   "metadata": {
    "id": "alyLSgKSC0-D"
   },
   "source": [
    "# Preparation"
   ]
  },
  {
   "cell_type": "code",
   "execution_count": 115,
   "metadata": {
    "id": "QmXsxVnDCYt7"
   },
   "outputs": [],
   "source": [
    "import os\n",
    "import numpy as np\n",
    "from bs4 import BeautifulSoup\n",
    "import requests\n",
    "import re\n",
    "import pandas as pd\n",
    "from wordcloud import WordCloud\n",
    "import glob \n",
    "import collections\n",
    "import MeCab"
   ]
  },
  {
   "cell_type": "markdown",
   "metadata": {
    "id": "hqY6BmcpC3-O"
   },
   "source": [
    "# Get title and URLS"
   ]
  },
  {
   "cell_type": "code",
   "execution_count": 116,
   "metadata": {
    "id": "r9Af6mg2C7Pa"
   },
   "outputs": [],
   "source": [
    "genres = [\"domestic\", \"world\", \"business\", \"entertainment\", \"sports\", \"it\", \"science\", \"local\"]"
   ]
  },
  {
   "cell_type": "code",
   "execution_count": 117,
   "metadata": {
    "colab": {
     "base_uri": "https://localhost:8080/"
    },
    "id": "lA4KMtGWDb33",
    "outputId": "b44aef21-7fb2-44a6-ccfd-c4d43269b860"
   },
   "outputs": [
    {
     "name": "stdout",
     "output_type": "stream",
     "text": [
      "https://news.yahoo.co.jp/topics/domestic?page=1\n"
     ]
    }
   ],
   "source": [
    "def make_URL(idx: int, jan: str) -> str:\n",
    "    return f'https://news.yahoo.co.jp/topics/{jan}?page={idx}'\n",
    "\n",
    "URLexample = make_URL(1, \"domestic\")\n",
    "print(URLexample)"
   ]
  },
  {
   "cell_type": "code",
   "execution_count": 118,
   "metadata": {
    "id": "gpkPvJMQmC4J"
   },
   "outputs": [],
   "source": [
    "URL_ = URLexample\n",
    "rest = requests.get(URL_)\n",
    "\n",
    "soup = BeautifulSoup(rest.text, \"html.parser\")\n",
    "\n",
    "data_list = soup.find_all(href=re.compile(\"news.yahoo.co.jp/pickup\"))"
   ]
  },
  {
   "cell_type": "code",
   "execution_count": 119,
   "metadata": {
    "colab": {
     "base_uri": "https://localhost:8080/"
    },
    "id": "dTpYXE-lDw8f",
    "outputId": "32a56216-c253-4a3a-8c9e-fecd19551c45"
   },
   "outputs": [
    {
     "name": "stdout",
     "output_type": "stream",
     "text": [
      "{'流行語大賞「村神様」に決定': ['https://news.yahoo.co.jp/pickup/6446369', '12/1(木) 14:10'], '全国的に気温低く 北日本は大雪も': ['https://news.yahoo.co.jp/pickup/6446353', '12/1(木) 12:13'], '同性婚巡り 本質に踏み込む判決': ['https://news.yahoo.co.jp/pickup/6446331', '12/1(木) 8:19'], '長射程ミサイル 同時開発を検討': ['https://news.yahoo.co.jp/pickup/6446327', '12/1(木) 8:16'], '敵基地攻撃能力 自公が実質合意': ['https://news.yahoo.co.jp/pickup/6446326', '12/1(木) 7:51'], '冬本番の寒さ 北日本は大雪に警戒': ['https://news.yahoo.co.jp/pickup/6446319', '12/1(木) 6:24'], '愛子さま21歳、コロナ収束に願い': ['https://news.yahoo.co.jp/pickup/6446317', '12/1(木) 0:16'], '江沢民氏死去 岸田氏「哀悼の意」': ['https://news.yahoo.co.jp/pickup/6446301', '11/30(水) 20:31'], '風流踊 ユネスコの無形文化遺産に': ['https://news.yahoo.co.jp/pickup/6446293', '11/30(水) 19:09'], '杉田氏 「洗脳教育」投稿を撤回': ['https://news.yahoo.co.jp/pickup/6446291', '11/30(水) 19:02'], '首相 五輪談合事件に「誠に遺憾」': ['https://news.yahoo.co.jp/pickup/6446282', '11/30(水) 17:44'], '同性婚不許可は違憲状態 東京地裁': ['https://news.yahoo.co.jp/pickup/6446272', '11/30(水) 16:44'], '過少記載疑い 自民・薗浦氏が謝罪': ['https://news.yahoo.co.jp/pickup/6446259', '11/30(水) 14:04'], '森元首相がコロナ感染で入院 軽症': ['https://news.yahoo.co.jp/pickup/6446229', '11/30(水) 9:39'], '自民・薗浦氏側4千万円過少記載か': ['https://news.yahoo.co.jp/pickup/6446217', '11/30(水) 8:09'], '五輪談合 電通が入札回避を要請か': ['https://news.yahoo.co.jp/pickup/6446215', '11/30(水) 8:09'], 'トマホーク最大500発購入へ 政府': ['https://news.yahoo.co.jp/pickup/6446208', '11/30(水) 6:56'], '秋篠宮さま 報道やSNS発信に言及': ['https://news.yahoo.co.jp/pickup/6446205', '11/30(水) 0:17'], '首相の政党支部 131万円を不記載': ['https://news.yahoo.co.jp/pickup/6446202', '11/29(火) 22:53'], '日中ホットライン 来春開始で調整': ['https://news.yahoo.co.jp/pickup/6446196', '11/29(火) 21:39'], '霊感商法などの相談 3カ月で800件': ['https://news.yahoo.co.jp/pickup/6446186', '11/29(火) 19:41'], '30日は気温急降下 10℃下がる所も': ['https://news.yahoo.co.jp/pickup/6446182', '11/29(火) 18:29'], '五輪談合 室伏長官が苦言を呈する': ['https://news.yahoo.co.jp/pickup/6446176', '11/29(火) 17:40'], '防衛費、自民で増税反対論相次ぐ': ['https://news.yahoo.co.jp/pickup/6446175', '11/29(火) 17:28'], '給食時の会話は可能 文科省が通知': ['https://news.yahoo.co.jp/pickup/6446156', '11/29(火) 15:06']}\n",
      "True\n"
     ]
    }
   ],
   "source": [
    "def get_title_url(URL: str, concat: dict) -> [dict, bool]:\n",
    "    URL_ = URL\n",
    "    rest = requests.get(URL_)\n",
    "\n",
    "    soup = BeautifulSoup(rest.text, \"html.parser\")\n",
    "\n",
    "    data_list = soup.find_all(href=re.compile(\"news.yahoo.co.jp/pickup\"))\n",
    "    if len(data_list) == 0:\n",
    "        continue_ = False\n",
    "    else:\n",
    "        for data in data_list:\n",
    "            if data.div:\n",
    "                concat[data.find_all('div')[3].string] = [data.attrs[\"href\"], data.find_all('div')[4].string]\n",
    "            continue_ = True\n",
    "    return concat, continue_\n",
    "\n",
    "concat = {}\n",
    "concat, continue_ = get_title_url(URLexample, concat)\n",
    "print(concat)\n",
    "print(continue_)"
   ]
  },
  {
   "cell_type": "code",
   "execution_count": 120,
   "metadata": {
    "colab": {
     "base_uri": "https://localhost:8080/"
    },
    "id": "PyudQIIkEzDl",
    "outputId": "15f280bd-fd78-4f82-d81c-5004d65f415b"
   },
   "outputs": [
    {
     "name": "stdout",
     "output_type": "stream",
     "text": [
      "{'流行語大賞「村神様」に決定': ['https://news.yahoo.co.jp/pickup/6446369', '12/1(木) 14:10'], '全国的に気温低く 北日本は大雪も': ['https://news.yahoo.co.jp/pickup/6446353', '12/1(木) 12:13'], '同性婚巡り 本質に踏み込む判決': ['https://news.yahoo.co.jp/pickup/6446331', '12/1(木) 8:19'], '長射程ミサイル 同時開発を検討': ['https://news.yahoo.co.jp/pickup/6446327', '12/1(木) 8:16'], '敵基地攻撃能力 自公が実質合意': ['https://news.yahoo.co.jp/pickup/6446326', '12/1(木) 7:51'], '冬本番の寒さ 北日本は大雪に警戒': ['https://news.yahoo.co.jp/pickup/6446319', '12/1(木) 6:24'], '愛子さま21歳、コロナ収束に願い': ['https://news.yahoo.co.jp/pickup/6446317', '12/1(木) 0:16'], '江沢民氏死去 岸田氏「哀悼の意」': ['https://news.yahoo.co.jp/pickup/6446301', '11/30(水) 20:31'], '風流踊 ユネスコの無形文化遺産に': ['https://news.yahoo.co.jp/pickup/6446293', '11/30(水) 19:09'], '杉田氏 「洗脳教育」投稿を撤回': ['https://news.yahoo.co.jp/pickup/6446291', '11/30(水) 19:02'], '首相 五輪談合事件に「誠に遺憾」': ['https://news.yahoo.co.jp/pickup/6446282', '11/30(水) 17:44'], '同性婚不許可は違憲状態 東京地裁': ['https://news.yahoo.co.jp/pickup/6446272', '11/30(水) 16:44'], '過少記載疑い 自民・薗浦氏が謝罪': ['https://news.yahoo.co.jp/pickup/6446259', '11/30(水) 14:04'], '森元首相がコロナ感染で入院 軽症': ['https://news.yahoo.co.jp/pickup/6446229', '11/30(水) 9:39'], '自民・薗浦氏側4千万円過少記載か': ['https://news.yahoo.co.jp/pickup/6446217', '11/30(水) 8:09'], '五輪談合 電通が入札回避を要請か': ['https://news.yahoo.co.jp/pickup/6446215', '11/30(水) 8:09'], 'トマホーク最大500発購入へ 政府': ['https://news.yahoo.co.jp/pickup/6446208', '11/30(水) 6:56'], '秋篠宮さま 報道やSNS発信に言及': ['https://news.yahoo.co.jp/pickup/6446205', '11/30(水) 0:17'], '首相の政党支部 131万円を不記載': ['https://news.yahoo.co.jp/pickup/6446202', '11/29(火) 22:53'], '日中ホットライン 来春開始で調整': ['https://news.yahoo.co.jp/pickup/6446196', '11/29(火) 21:39'], '霊感商法などの相談 3カ月で800件': ['https://news.yahoo.co.jp/pickup/6446186', '11/29(火) 19:41'], '30日は気温急降下 10℃下がる所も': ['https://news.yahoo.co.jp/pickup/6446182', '11/29(火) 18:29'], '五輪談合 室伏長官が苦言を呈する': ['https://news.yahoo.co.jp/pickup/6446176', '11/29(火) 17:40'], '防衛費、自民で増税反対論相次ぐ': ['https://news.yahoo.co.jp/pickup/6446175', '11/29(火) 17:28'], '給食時の会話は可能 文科省が通知': ['https://news.yahoo.co.jp/pickup/6446156', '11/29(火) 15:06'], '後援会90万円不記載 国交相が陳謝': ['https://news.yahoo.co.jp/pickup/6446153', '11/29(火) 14:26'], '給食時の会話可能 文科省が通知へ': ['https://news.yahoo.co.jp/pickup/6446149', '11/29(火) 13:44'], '国葬検証 識者約20人から意見聴取': ['https://news.yahoo.co.jp/pickup/6446148', '11/29(火) 13:38'], '復興相を追及 野党が攻勢強める': ['https://news.yahoo.co.jp/pickup/6446147', '11/29(火) 13:27'], 'コロナで共通テスト欠席 救済縮小': ['https://news.yahoo.co.jp/pickup/6446141', '11/29(火) 12:42'], '絞首刑は残虐 死刑囚3人が国提訴': ['https://news.yahoo.co.jp/pickup/6446133', '11/29(火) 11:55'], '五輪談合 ADK側にも家宅捜索': ['https://news.yahoo.co.jp/pickup/6446134', '11/29(火) 11:26'], '介護保険の2割負担 対象拡大へ': ['https://news.yahoo.co.jp/pickup/6446114', '11/29(火) 8:01'], '五輪組織委 受注候補の一覧作成か': ['https://news.yahoo.co.jp/pickup/6446110', '11/29(火) 7:31'], 'コロナとインフル同時検査 市販へ': ['https://news.yahoo.co.jp/pickup/6446111', '11/29(火) 7:23'], '全国的に荒天 最高20℃以上の所も': ['https://news.yahoo.co.jp/pickup/6446108', '11/29(火) 7:13'], '防衛費27年度にGDP比2%へ 首相': ['https://news.yahoo.co.jp/pickup/6446098', '11/28(月) 21:50'], '首相 党幹部や菅氏らと相次ぎ会談': ['https://news.yahoo.co.jp/pickup/6446090', '11/28(月) 20:59'], '防衛費増額 コロナ予算の活用検討': ['https://news.yahoo.co.jp/pickup/6446084', '11/28(月) 19:56'], 'マイナンバーカード申請率60%突破': ['https://news.yahoo.co.jp/pickup/6446077', '11/28(月) 19:14'], '29日は全国的に荒天 気圧変化も大': ['https://news.yahoo.co.jp/pickup/6446072', '11/28(月) 18:35'], '五輪談合 当時の懸念を関係者証言': ['https://news.yahoo.co.jp/pickup/6446066', '11/28(月) 17:32'], 'PAC3の展開訓練 日本海側で初': ['https://news.yahoo.co.jp/pickup/6446041', '11/28(月) 13:48'], '復興相の視察延期 答弁準備のため': ['https://news.yahoo.co.jp/pickup/6446036', '11/28(月) 12:57'], '出生数最少ペースで危機的 松野氏': ['https://news.yahoo.co.jp/pickup/6446035', '11/28(月) 12:55'], '12月1日、東京で10℃も下がる予想': ['https://news.yahoo.co.jp/pickup/6446032', '11/28(月) 12:00'], '秋葉復興相 旧統一巡る支出修正へ': ['https://news.yahoo.co.jp/pickup/6446026', '11/28(月) 11:46'], '天皇陛下が退院 前立腺の組織検査': ['https://news.yahoo.co.jp/pickup/6446022', '11/28(月) 11:02'], '五輪巡る談合 博報堂など家宅捜索': ['https://news.yahoo.co.jp/pickup/6446019', '11/28(月) 10:27'], '五輪談合 博報堂などを家宅捜索': ['https://news.yahoo.co.jp/pickup/6446017', '11/28(月) 10:13'], '救済 寄付勧誘で意思の抑圧禁止に': ['https://news.yahoo.co.jp/pickup/6446009', '11/28(月) 8:51'], '攻撃目標を小型衛星で特定 整備へ': ['https://news.yahoo.co.jp/pickup/6446006', '11/28(月) 8:25'], '公明「政治と宗教」の余波警戒': ['https://news.yahoo.co.jp/pickup/6446005', '11/28(月) 8:08'], '関東で大幅に気温降下 冬支度を': ['https://news.yahoo.co.jp/pickup/6446001', '11/28(月) 7:40'], '首相 政権運営巡り茂木氏と会談': ['https://news.yahoo.co.jp/pickup/6445986', '11/28(月) 0:13'], '政府 病院サイバー対策組織新設へ': ['https://news.yahoo.co.jp/pickup/6445985', '11/27(日) 23:43'], '与野党の攻防ヤマ場 首相は正念場': ['https://news.yahoo.co.jp/pickup/6445969', '11/27(日) 20:22'], '反撃能力巡り自民 専守防衛を強調': ['https://news.yahoo.co.jp/pickup/6445943', '11/27(日) 15:03'], '今週は本州で雪も タイヤ交換を': ['https://news.yahoo.co.jp/pickup/6445942', '11/27(日) 14:26'], 'コロナ「5類」早期に検討 厚労相': ['https://news.yahoo.co.jp/pickup/6445928', '11/27(日) 11:19'], '五輪談合 予定価格の3倍で受注も': ['https://news.yahoo.co.jp/pickup/6445921', '11/27(日) 10:09'], '天皇陛下 都内病院で前立腺の生検': ['https://news.yahoo.co.jp/pickup/6445922', '11/27(日) 9:59'], '使途公表不要の政活費 二階氏最多': ['https://news.yahoo.co.jp/pickup/6445913', '11/27(日) 8:17'], '防衛費「5年間で40兆円超」で調整': ['https://news.yahoo.co.jp/pickup/6445908', '11/27(日) 7:40'], 'ミャンマー拘束 日記で正気保った': ['https://news.yahoo.co.jp/pickup/6445903', '11/26(土) 23:18'], '日韓国会議員がサッカー 韓国勝利': ['https://news.yahoo.co.jp/pickup/6445897', '11/26(土) 21:55'], '河井氏の支部収支 不明のまま1年': ['https://news.yahoo.co.jp/pickup/6445895', '11/26(土) 21:34'], '五輪談合 ほとんどの入札1社だけ': ['https://news.yahoo.co.jp/pickup/6445893', '11/26(土) 21:04'], '27日 北陸から北で気温急降下': ['https://news.yahoo.co.jp/pickup/6445878', '11/26(土) 18:12'], '住所の地番まで報道 新聞社が勝訴': ['https://news.yahoo.co.jp/pickup/6445858', '11/26(土) 15:45'], '斉藤国交相の後援会 90万円不記載': ['https://news.yahoo.co.jp/pickup/6445849', '11/26(土) 13:42'], '無人機迎撃 国産新ミサイル開発へ': ['https://news.yahoo.co.jp/pickup/6445845', '11/26(土) 12:50'], '来週は師走寒波 気温変化に備えを': ['https://news.yahoo.co.jp/pickup/6445841', '11/26(土) 11:36'], '政府 反撃能力「必要最小限」説明': ['https://news.yahoo.co.jp/pickup/6445838', '11/26(土) 10:54'], 'ハラスメント 苦しみ続く元自衛官': ['https://news.yahoo.co.jp/pickup/6445834', '11/26(土) 10:17'], '救済 自主寄付は規制困難と首相': ['https://news.yahoo.co.jp/pickup/6445827', '11/26(土) 8:30'], '組織委が受注意向共有 談合関与か': ['https://news.yahoo.co.jp/pickup/6445826', '11/26(土) 8:07'], '原発の運転延長 審査期間を除外へ': ['https://news.yahoo.co.jp/pickup/6445816', '11/25(金) 22:46'], 'コロナ「5類」引き下げ本格検討へ': ['https://news.yahoo.co.jp/pickup/6445812', '11/25(金) 22:02'], '班目春樹氏が死去 元原子力安全委': ['https://news.yahoo.co.jp/pickup/6445809', '11/25(金) 21:19'], '首相が5回目接種 呼びかける狙い': ['https://news.yahoo.co.jp/pickup/6445805', '11/25(金) 20:53'], '中国の船舶活動極めて深刻 松野氏': ['https://news.yahoo.co.jp/pickup/6445796', '11/25(金) 19:09'], '首相 秋葉復興相の更迭を否定': ['https://news.yahoo.co.jp/pickup/6445772', '11/25(金) 16:29'], '佐川氏が改ざんの方向性決定 地裁': ['https://news.yahoo.co.jp/pickup/6445773', '11/25(金) 16:25'], '走行距離課税の検討なし 岸田首相': ['https://news.yahoo.co.jp/pickup/6445768', '11/25(金) 15:31'], '森友問題 元理財局長の賠償認めず': ['https://news.yahoo.co.jp/pickup/6445764', '11/25(金) 14:11'], '閣僚交代に領収書 岸田内閣今後は': ['https://news.yahoo.co.jp/pickup/6445758', '11/25(金) 13:05'], '復興相 運動員買収の疑惑を否定': ['https://news.yahoo.co.jp/pickup/6445751', '11/25(金) 12:13'], '76mm砲搭載の中国船 領海に初侵入': ['https://news.yahoo.co.jp/pickup/6445749', '11/25(金) 11:56'], '「将来倍増」の子供予算 財源白紙': ['https://news.yahoo.co.jp/pickup/6445743', '11/25(金) 10:41'], '五輪テスト大会談合か 電通を捜索': ['https://news.yahoo.co.jp/pickup/6445742', '11/25(金) 10:09'], '自民・公明 反撃能力の保有容認へ': ['https://news.yahoo.co.jp/pickup/6445726', '11/25(金) 7:55'], '五輪テスト大会談合か 強制捜査へ': ['https://news.yahoo.co.jp/pickup/6445729', '11/25(金) 7:37'], 'きょうから予算委 経済対策で論戦': ['https://news.yahoo.co.jp/pickup/6445727', '11/25(金) 7:27'], '首相と麻生氏会食 国会運営協議か': ['https://news.yahoo.co.jp/pickup/6445725', '11/25(金) 6:51'], '「救済新法」与党が修正案を提示': ['https://news.yahoo.co.jp/pickup/6445719', '11/25(金) 0:07']}\n"
     ]
    }
   ],
   "source": [
    "def  make_gen_title_url(jan: str) -> dict:\n",
    "    continue_ = True\n",
    "    idx = 1\n",
    "    concat = {}\n",
    "    while continue_ != False:\n",
    "        URL = make_URL(idx, jan)\n",
    "        concat, continue_ = get_title_url(URL, concat)\n",
    "        idx += 1\n",
    "    return concat\n",
    "\n",
    "concat = make_gen_title_url('domestic')\n",
    "print(concat)"
   ]
  },
  {
   "cell_type": "markdown",
   "metadata": {
    "id": "orWozBRAG_B2"
   },
   "source": [
    "# Loop for getting title and URL"
   ]
  },
  {
   "cell_type": "code",
   "execution_count": 121,
   "metadata": {
    "id": "7l4YbxeoHDfd"
   },
   "outputs": [],
   "source": [
    "concat_genre = {}\n",
    "for genre in genres:\n",
    "    concat = make_jan_title_url(genre)\n",
    "    concat_genre[genre] = concat"
   ]
  },
  {
   "cell_type": "code",
   "execution_count": 21,
   "metadata": {
    "colab": {
     "base_uri": "https://localhost:8080/",
     "height": 173
    },
    "id": "JYwKjy3mItIH",
    "outputId": "27353758-f202-49d2-b442-7b5510125cd5"
   },
   "outputs": [],
   "source": [
    "URLexample = list(concat_genre['domestic'].values())[5]"
   ]
  },
  {
   "cell_type": "code",
   "execution_count": 22,
   "metadata": {
    "id": "wskFekaNb7hz"
   },
   "outputs": [
    {
     "data": {
      "text/plain": [
       "['https://news.yahoo.co.jp/pickup/6446319', '12/1(木) 6:24']"
      ]
     },
     "execution_count": 22,
     "metadata": {},
     "output_type": "execute_result"
    }
   ],
   "source": [
    "URLexample"
   ]
  },
  {
   "cell_type": "markdown",
   "metadata": {
    "id": "dwLZZaaIHitW"
   },
   "source": [
    "# Extract document"
   ]
  },
  {
   "cell_type": "code",
   "execution_count": 30,
   "metadata": {
    "id": "qKUGc2vaHMSI"
   },
   "outputs": [
    {
     "name": "stdout",
     "output_type": "stream",
     "text": [
      "・全国的に冬本番の寒さ・北海道や東北は大雪のおそれ・北陸は雷雨や霰(あられ)に注意今日12月1日(木)は冬型の気圧配置が続き、上空に強い寒気が流れ込みます。全国的に気温が低く、冬本番の寒さとなる見込みです。北日本の日本海側を中心に大雪となるおそれがあります。強い寒気が日本列島に覆うため、全国的に冬本番の寒さになります。北海道は最高気温が0℃未満の真冬日の所が多い予想です。関東から西の各地も昼間の気温は10℃前後までしか上がらず、空気が冷たく感じます。関東は日差しが乏しく、寒い一日です。日本海で発達した雪雲が次々に流れ込み、北海道や東北北部の日本海側は断続的に雪が降ります。内陸部や山沿いを中心に積雪が増加する見込みです。車で移動をする場合は冬用タイヤを装着していても慎重な運転を行ってください。東北南部や北陸なども山沿いは積雪のおそれがあるため、注意が必要です。北陸は日本海でぶつかり合う風によって発達した雲の影響で雨が降りやすく、局地的に雷を伴って強く降ることがあります。また、活発な雨雲の周辺では霰(あられ)や突風にも注意が必要です。\n",
      "141\n"
     ]
    }
   ],
   "source": [
    "def get_document(URL: str) -> [str, int]:\n",
    "    html_doc = requests.get(URL).text\n",
    "    soup = BeautifulSoup(html_doc, 'html.parser')\n",
    "    article_list = soup.find_all(href=re.compile(\"news.yahoo.co.jp/\"))\n",
    "    for idx, article in enumerate(article_list):\n",
    "        if \"記事全文を読む\" in str(article):\n",
    "            article_url = article.attrs['href']\n",
    "            break\n",
    "        else:\n",
    "            article_url = None\n",
    "            if idx == len(article_list) - 1:\n",
    "                return [np.nan, 'NaN']\n",
    "\n",
    "    html_doc = requests.get(article_url).text\n",
    "    soup = BeautifulSoup(html_doc, 'html.parser')\n",
    "\n",
    "    try:\n",
    "        comment_count = int(str(soup.find_all('div', {'class': \"riff-VisuallyHidden__root\"})).split('<!-- -->')[1])\n",
    "    except IndexError:\n",
    "        comment_count = 'NaN'\n",
    "  \n",
    "    ps = soup.find_all(\"p\", {\"class\": \"sc-jtggT bAhgUU yjSlinkDirectlink highLightSearchTarget\"})\n",
    "  \n",
    "    texts = []\n",
    "    for p in ps:\n",
    "        texts.append(p.get_text())\n",
    "    texts = [sentence.strip() for sentence in texts]  # 空白文字(スペースやタブ、改行)の削除\n",
    "    texts = list(filter(lambda line: line != '', texts))\n",
    "    texts = ''.join(texts)\n",
    "    texts = texts.translate(str.maketrans(\n",
    "          {'\\n': '', '\\t': '', '\\r': '', '\\u3000': '', ' ': ''}))  # 改行やタブ、全角スペースを消す\n",
    "    return [texts, comment_count]\n",
    "\n",
    "output = get_document(URLexample[0])\n",
    "print(output[0])\n",
    "print(output[1])"
   ]
  },
  {
   "cell_type": "code",
   "execution_count": 31,
   "metadata": {
    "id": "FD7a_dQKIqy7"
   },
   "outputs": [],
   "source": [
    "from tqdm.notebook import tqdm"
   ]
  },
  {
   "cell_type": "code",
   "execution_count": 32,
   "metadata": {
    "id": "qYZGTRm1JC4i",
    "scrolled": true
   },
   "outputs": [
    {
     "data": {
      "application/json": {
       "ascii": false,
       "bar_format": null,
       "colour": null,
       "elapsed": 0.02417302131652832,
       "initial": 0,
       "n": 0,
       "ncols": null,
       "nrows": 24,
       "postfix": null,
       "prefix": "",
       "rate": null,
       "total": 8,
       "unit": "it",
       "unit_divisor": 1000,
       "unit_scale": false
      },
      "application/vnd.jupyter.widget-view+json": {
       "model_id": "c5b40a0b1c6d4a7b98ca4d62308aab0a",
       "version_major": 2,
       "version_minor": 0
      },
      "text/plain": [
       "  0%|          | 0/8 [00:00<?, ?it/s]"
      ]
     },
     "metadata": {},
     "output_type": "display_data"
    },
    {
     "data": {
      "application/json": {
       "ascii": false,
       "bar_format": null,
       "colour": null,
       "elapsed": 0.017533302307128906,
       "initial": 0,
       "n": 0,
       "ncols": null,
       "nrows": 24,
       "postfix": null,
       "prefix": "",
       "rate": null,
       "total": 96,
       "unit": "it",
       "unit_divisor": 1000,
       "unit_scale": false
      },
      "application/vnd.jupyter.widget-view+json": {
       "model_id": "5b749ae4c7aa44dd95308413b435ad28",
       "version_major": 2,
       "version_minor": 0
      },
      "text/plain": [
       "  0%|          | 0/96 [00:00<?, ?it/s]"
      ]
     },
     "metadata": {},
     "output_type": "display_data"
    },
    {
     "data": {
      "application/json": {
       "ascii": false,
       "bar_format": null,
       "colour": null,
       "elapsed": 0.015108823776245117,
       "initial": 0,
       "n": 0,
       "ncols": null,
       "nrows": 24,
       "postfix": null,
       "prefix": "",
       "rate": null,
       "total": 69,
       "unit": "it",
       "unit_divisor": 1000,
       "unit_scale": false
      },
      "application/vnd.jupyter.widget-view+json": {
       "model_id": "bb567af4750244abb4bbc5f57f122036",
       "version_major": 2,
       "version_minor": 0
      },
      "text/plain": [
       "  0%|          | 0/69 [00:00<?, ?it/s]"
      ]
     },
     "metadata": {},
     "output_type": "display_data"
    },
    {
     "data": {
      "application/json": {
       "ascii": false,
       "bar_format": null,
       "colour": null,
       "elapsed": 0.013676643371582031,
       "initial": 0,
       "n": 0,
       "ncols": null,
       "nrows": 24,
       "postfix": null,
       "prefix": "",
       "rate": null,
       "total": 63,
       "unit": "it",
       "unit_divisor": 1000,
       "unit_scale": false
      },
      "application/vnd.jupyter.widget-view+json": {
       "model_id": "11ee55dae91b4ce4be33c8f690e52f36",
       "version_major": 2,
       "version_minor": 0
      },
      "text/plain": [
       "  0%|          | 0/63 [00:00<?, ?it/s]"
      ]
     },
     "metadata": {},
     "output_type": "display_data"
    },
    {
     "data": {
      "application/json": {
       "ascii": false,
       "bar_format": null,
       "colour": null,
       "elapsed": 0.008414983749389648,
       "initial": 0,
       "n": 0,
       "ncols": null,
       "nrows": 24,
       "postfix": null,
       "prefix": "",
       "rate": null,
       "total": 80,
       "unit": "it",
       "unit_divisor": 1000,
       "unit_scale": false
      },
      "application/vnd.jupyter.widget-view+json": {
       "model_id": "33bf4a8cc2214ef397ca939ad1d2ccae",
       "version_major": 2,
       "version_minor": 0
      },
      "text/plain": [
       "  0%|          | 0/80 [00:00<?, ?it/s]"
      ]
     },
     "metadata": {},
     "output_type": "display_data"
    },
    {
     "data": {
      "application/json": {
       "ascii": false,
       "bar_format": null,
       "colour": null,
       "elapsed": 0.013732194900512695,
       "initial": 0,
       "n": 0,
       "ncols": null,
       "nrows": 24,
       "postfix": null,
       "prefix": "",
       "rate": null,
       "total": 121,
       "unit": "it",
       "unit_divisor": 1000,
       "unit_scale": false
      },
      "application/vnd.jupyter.widget-view+json": {
       "model_id": "46a6c975978f4a0f9158a0dc6706927e",
       "version_major": 2,
       "version_minor": 0
      },
      "text/plain": [
       "  0%|          | 0/121 [00:00<?, ?it/s]"
      ]
     },
     "metadata": {},
     "output_type": "display_data"
    },
    {
     "data": {
      "application/json": {
       "ascii": false,
       "bar_format": null,
       "colour": null,
       "elapsed": 0.008828878402709961,
       "initial": 0,
       "n": 0,
       "ncols": null,
       "nrows": 24,
       "postfix": null,
       "prefix": "",
       "rate": null,
       "total": 27,
       "unit": "it",
       "unit_divisor": 1000,
       "unit_scale": false
      },
      "application/vnd.jupyter.widget-view+json": {
       "model_id": "840c7822df234062b4113d80693a9f56",
       "version_major": 2,
       "version_minor": 0
      },
      "text/plain": [
       "  0%|          | 0/27 [00:00<?, ?it/s]"
      ]
     },
     "metadata": {},
     "output_type": "display_data"
    },
    {
     "data": {
      "application/json": {
       "ascii": false,
       "bar_format": null,
       "colour": null,
       "elapsed": 0.008865118026733398,
       "initial": 0,
       "n": 0,
       "ncols": null,
       "nrows": 24,
       "postfix": null,
       "prefix": "",
       "rate": null,
       "total": 28,
       "unit": "it",
       "unit_divisor": 1000,
       "unit_scale": false
      },
      "application/vnd.jupyter.widget-view+json": {
       "model_id": "5fadd29eb42a4fadb10efdc991da4756",
       "version_major": 2,
       "version_minor": 0
      },
      "text/plain": [
       "  0%|          | 0/28 [00:00<?, ?it/s]"
      ]
     },
     "metadata": {},
     "output_type": "display_data"
    },
    {
     "data": {
      "application/json": {
       "ascii": false,
       "bar_format": null,
       "colour": null,
       "elapsed": 0.008977174758911133,
       "initial": 0,
       "n": 0,
       "ncols": null,
       "nrows": 24,
       "postfix": null,
       "prefix": "",
       "rate": null,
       "total": 87,
       "unit": "it",
       "unit_divisor": 1000,
       "unit_scale": false
      },
      "application/vnd.jupyter.widget-view+json": {
       "model_id": "e2b636acd40542da8dd378e1847a0fe3",
       "version_major": 2,
       "version_minor": 0
      },
      "text/plain": [
       "  0%|          | 0/87 [00:00<?, ?it/s]"
      ]
     },
     "metadata": {},
     "output_type": "display_data"
    }
   ],
   "source": [
    "for genre in tqdm(genres):\n",
    "    titles = list(concat_genre[genre].keys())\n",
    "    urls = [i[0] for i in list(concat_genre[genre].values())]\n",
    "    dates = [i[1] for i in list(concat_genre[genre].values())]\n",
    "    texts = []\n",
    "    comment_counts = []\n",
    "    for url in tqdm(urls):\n",
    "        texts.append(get_document(url)[0])\n",
    "        comment_counts.append(get_document(url)[1])\n",
    "  \n",
    "    if genre == 'domestic':\n",
    "        df = pd.DataFrame(columns=['genre', 'title', 'date', 'document', 'comment_count'])\n",
    "        df['title'] = titles\n",
    "        df['document'] = texts\n",
    "        df['comment_count'] = comment_counts\n",
    "        df['date'] = dates\n",
    "        df['genre'] = genre\n",
    "    else:\n",
    "        df_genre = pd.DataFrame(columns=['genre', 'title', 'date', 'document'])\n",
    "        df_genre['title'] = titles\n",
    "        df_genre['document'] = texts\n",
    "        df_genre['comment_count'] = comment_counts\n",
    "        df_genre['date'] = dates\n",
    "        df_genre['genre'] = genre\n",
    "        df = pd.concat([df, df_genre])"
   ]
  },
  {
   "cell_type": "code",
   "execution_count": 50,
   "metadata": {},
   "outputs": [
    {
     "data": {
      "text/html": [
       "<div>\n",
       "<style scoped>\n",
       "    .dataframe tbody tr th:only-of-type {\n",
       "        vertical-align: middle;\n",
       "    }\n",
       "\n",
       "    .dataframe tbody tr th {\n",
       "        vertical-align: top;\n",
       "    }\n",
       "\n",
       "    .dataframe thead th {\n",
       "        text-align: right;\n",
       "    }\n",
       "</style>\n",
       "<table border=\"1\" class=\"dataframe\">\n",
       "  <thead>\n",
       "    <tr style=\"text-align: right;\">\n",
       "      <th></th>\n",
       "      <th>genre</th>\n",
       "      <th>title</th>\n",
       "      <th>date</th>\n",
       "      <th>document</th>\n",
       "      <th>comment_count</th>\n",
       "    </tr>\n",
       "  </thead>\n",
       "  <tbody>\n",
       "    <tr>\n",
       "      <th>0</th>\n",
       "      <td>domestic</td>\n",
       "      <td>流行語大賞「村神様」に決定</td>\n",
       "      <td>12/1(木) 14:10</td>\n",
       "      <td>1日、今年の「ユーキャン新語・流行語大賞」が発表され、年間大賞に「村神様」が選ばれた。【映像...</td>\n",
       "      <td>2166</td>\n",
       "    </tr>\n",
       "    <tr>\n",
       "      <th>1</th>\n",
       "      <td>domestic</td>\n",
       "      <td>全国的に気温低く 北日本は大雪も</td>\n",
       "      <td>12/1(木) 12:13</td>\n",
       "      <td>日本付近はあす2日（金）にかけて冬型の気圧配置が続き、北日本を中心に強い寒気が流れ込む見通し...</td>\n",
       "      <td>72</td>\n",
       "    </tr>\n",
       "    <tr>\n",
       "      <th>2</th>\n",
       "      <td>domestic</td>\n",
       "      <td>同性婚巡り 本質に踏み込む判決</td>\n",
       "      <td>12/1(木) 8:19</td>\n",
       "      <td>同性カップルが「家族になる制度」がないのは違憲状態――。同性カップルの婚姻をめぐり、東京地裁...</td>\n",
       "      <td>968</td>\n",
       "    </tr>\n",
       "    <tr>\n",
       "      <th>3</th>\n",
       "      <td>domestic</td>\n",
       "      <td>長射程ミサイル 同時開発を検討</td>\n",
       "      <td>12/1(木) 8:16</td>\n",
       "      <td>防衛省が「反撃能力」の保有に向け、検討している長射程ミサイル開発計画の概要がわかった。１０種...</td>\n",
       "      <td>NaN</td>\n",
       "    </tr>\n",
       "    <tr>\n",
       "      <th>4</th>\n",
       "      <td>domestic</td>\n",
       "      <td>敵基地攻撃能力 自公が実質合意</td>\n",
       "      <td>12/1(木) 7:51</td>\n",
       "      <td>政府の国家安全保障戦略など安保関連3文書の改定に向け、自民、公明両党の実務者協議が30日あり...</td>\n",
       "      <td>NaN</td>\n",
       "    </tr>\n",
       "  </tbody>\n",
       "</table>\n",
       "</div>"
      ],
      "text/plain": [
       "      genre             title           date  \\\n",
       "0  domestic     流行語大賞「村神様」に決定  12/1(木) 14:10   \n",
       "1  domestic  全国的に気温低く 北日本は大雪も  12/1(木) 12:13   \n",
       "2  domestic   同性婚巡り 本質に踏み込む判決   12/1(木) 8:19   \n",
       "3  domestic   長射程ミサイル 同時開発を検討   12/1(木) 8:16   \n",
       "4  domestic   敵基地攻撃能力 自公が実質合意   12/1(木) 7:51   \n",
       "\n",
       "                                            document comment_count  \n",
       "0  1日、今年の「ユーキャン新語・流行語大賞」が発表され、年間大賞に「村神様」が選ばれた。【映像...          2166  \n",
       "1  日本付近はあす2日（金）にかけて冬型の気圧配置が続き、北日本を中心に強い寒気が流れ込む見通し...            72  \n",
       "2  同性カップルが「家族になる制度」がないのは違憲状態――。同性カップルの婚姻をめぐり、東京地裁...           968  \n",
       "3  防衛省が「反撃能力」の保有に向け、検討している長射程ミサイル開発計画の概要がわかった。１０種...           NaN  \n",
       "4  政府の国家安全保障戦略など安保関連3文書の改定に向け、自民、公明両党の実務者協議が30日あり...           NaN  "
      ]
     },
     "metadata": {},
     "output_type": "display_data"
    }
   ],
   "source": [
    "display(df.head())"
   ]
  },
  {
   "cell_type": "code",
   "execution_count": 103,
   "metadata": {
    "id": "loGT3uYuVspC"
   },
   "outputs": [],
   "source": [
    " FONT_PATH = \"/usr/share/fonts/truetype/ipagp.ttf\"\n",
    "TXT_NAME = \"/content/text\"\n",
    " \n",
    "def get_word_str(text):\n",
    "\n",
    "    code_regex = re.compile('[\\t\\s!\"#$%&\\'\\\\\\\\()*+,-./:;；：<=>?@[\\\\]^_`{|}~○｢｣「」〔〕“”〈〉'\\\n",
    "    '『』【】＆＊（）＄＃＠？！｀＋￥¥％♪…◇→←↓↑｡･ω･｡ﾟ´∀｀ΣДｘ⑥◎©︎♡★☆▽※ゞノ〆εσ＞＜┌┘]')\n",
    "    text = code_regex.sub('', text)\n",
    "    #text = re.sub(r'[!-/:-@[-`{-~]', r' ', text)\n",
    "    mecab = MeCab.Tagger('mecab-ipadic-neologd')\n",
    "    parsed = mecab.parse(text)\n",
    "    lines = parsed.split('\\n')\n",
    "    lines = lines[0:-2]\n",
    "    word_list = []\n",
    " \n",
    "    for line in lines:\n",
    "        tmp = re.split('\\t|,', line)\n",
    " \n",
    "        # 名詞のみ対象\n",
    "        if  \"名詞\" in tmp[4]:\n",
    "            word_list.append(tmp[0])\n",
    " \n",
    "    return word_list\n",
    "\n",
    "\n",
    "def get_count(text: str) -> list:\n",
    "    # 文字列取得\n",
    "    word_list = get_word_str(text)\n",
    "    #stopwordsの設定\n",
    "    words = [\"私\",\"わたし\",\"僕\",\"あなた\",\"みんな\",\"ただ\",\"ほか\",\"それ\", \"もの\", \"の\", \"さん\", \"横井\", \"これ\", \"よう\", \"ところ\",\"ため\",\"うち\",\"ここ\",\"そう\",\"どこ\", \"つもり\", \"いつ\",\"あと\",\"もん\",\"はず\",\"こと\",\"そこ\",\"あれ\",\"なに\",\"傍点\",\"まま\",\"事\",\"人\",\"方\",\"何\",\"時\",\"一\",\"二\",\"三\",\"四\",\"五\",\"六\",\"七\",\"八\",\"九\",\"十\", \"1\", \"2\", \"3\", \"4\", \"5\", \"6\", \"7\", \"8\", \"9\", \"10\", \"１\", \"２\", \"３\", \"４\", \"５\", \"６\", \"７\", \"８\", \"９\", \"１０\"]\n",
    "    \n",
    "    for word in words:\n",
    "        if word in word_list:\n",
    "            word_list = list(filter((word).__ne__, word_list))\n",
    "\n",
    "    c = collections.Counter(word_list)\n",
    "    list_item1 = []\n",
    "    for i in list(c.items()):\n",
    "        try:\n",
    "            int(i[0])\n",
    "        except ValueError:\n",
    "            list_item1.append(i)\n",
    "  \n",
    "    list_item2 = []\n",
    "    for i in list_item1:\n",
    "        if len(i[0]) != 1:\n",
    "            list_item2.append(i)\n",
    "    return list_item2"
   ]
  },
  {
   "cell_type": "code",
   "execution_count": 111,
   "metadata": {
    "id": "iYcUtsBVkUQ_"
   },
   "outputs": [
    {
     "data": {
      "text/html": [
       "<div>\n",
       "<style scoped>\n",
       "    .dataframe tbody tr th:only-of-type {\n",
       "        vertical-align: middle;\n",
       "    }\n",
       "\n",
       "    .dataframe tbody tr th {\n",
       "        vertical-align: top;\n",
       "    }\n",
       "\n",
       "    .dataframe thead th {\n",
       "        text-align: right;\n",
       "    }\n",
       "</style>\n",
       "<table border=\"1\" class=\"dataframe\">\n",
       "  <thead>\n",
       "    <tr style=\"text-align: right;\">\n",
       "      <th></th>\n",
       "      <th>genre</th>\n",
       "      <th>title</th>\n",
       "      <th>date</th>\n",
       "      <th>document</th>\n",
       "      <th>comment_count</th>\n",
       "      <th>word</th>\n",
       "      <th>count</th>\n",
       "    </tr>\n",
       "  </thead>\n",
       "  <tbody>\n",
       "    <tr>\n",
       "      <th>0</th>\n",
       "      <td>domestic</td>\n",
       "      <td>流行語大賞「村神様」に決定</td>\n",
       "      <td>12/1(木) 14:10</td>\n",
       "      <td>1日、今年の「ユーキャン新語・流行語大賞」が発表され、年間大賞に「村神様」が選ばれた。【映像...</td>\n",
       "      <td>2166</td>\n",
       "      <td>今年</td>\n",
       "      <td>1</td>\n",
       "    </tr>\n",
       "    <tr>\n",
       "      <th>1</th>\n",
       "      <td>domestic</td>\n",
       "      <td>流行語大賞「村神様」に決定</td>\n",
       "      <td>12/1(木) 14:10</td>\n",
       "      <td>1日、今年の「ユーキャン新語・流行語大賞」が発表され、年間大賞に「村神様」が選ばれた。【映像...</td>\n",
       "      <td>2166</td>\n",
       "      <td>ユー</td>\n",
       "      <td>1</td>\n",
       "    </tr>\n",
       "    <tr>\n",
       "      <th>2</th>\n",
       "      <td>domestic</td>\n",
       "      <td>流行語大賞「村神様」に決定</td>\n",
       "      <td>12/1(木) 14:10</td>\n",
       "      <td>1日、今年の「ユーキャン新語・流行語大賞」が発表され、年間大賞に「村神様」が選ばれた。【映像...</td>\n",
       "      <td>2166</td>\n",
       "      <td>キャン</td>\n",
       "      <td>1</td>\n",
       "    </tr>\n",
       "    <tr>\n",
       "      <th>3</th>\n",
       "      <td>domestic</td>\n",
       "      <td>流行語大賞「村神様」に決定</td>\n",
       "      <td>12/1(木) 14:10</td>\n",
       "      <td>1日、今年の「ユーキャン新語・流行語大賞」が発表され、年間大賞に「村神様」が選ばれた。【映像...</td>\n",
       "      <td>2166</td>\n",
       "      <td>新語</td>\n",
       "      <td>1</td>\n",
       "    </tr>\n",
       "    <tr>\n",
       "      <th>4</th>\n",
       "      <td>domestic</td>\n",
       "      <td>流行語大賞「村神様」に決定</td>\n",
       "      <td>12/1(木) 14:10</td>\n",
       "      <td>1日、今年の「ユーキャン新語・流行語大賞」が発表され、年間大賞に「村神様」が選ばれた。【映像...</td>\n",
       "      <td>2166</td>\n",
       "      <td>流行</td>\n",
       "      <td>1</td>\n",
       "    </tr>\n",
       "  </tbody>\n",
       "</table>\n",
       "</div>"
      ],
      "text/plain": [
       "      genre          title           date  \\\n",
       "0  domestic  流行語大賞「村神様」に決定  12/1(木) 14:10   \n",
       "1  domestic  流行語大賞「村神様」に決定  12/1(木) 14:10   \n",
       "2  domestic  流行語大賞「村神様」に決定  12/1(木) 14:10   \n",
       "3  domestic  流行語大賞「村神様」に決定  12/1(木) 14:10   \n",
       "4  domestic  流行語大賞「村神様」に決定  12/1(木) 14:10   \n",
       "\n",
       "                                            document comment_count word count  \n",
       "0  1日、今年の「ユーキャン新語・流行語大賞」が発表され、年間大賞に「村神様」が選ばれた。【映像...          2166   今年     1  \n",
       "1  1日、今年の「ユーキャン新語・流行語大賞」が発表され、年間大賞に「村神様」が選ばれた。【映像...          2166   ユー     1  \n",
       "2  1日、今年の「ユーキャン新語・流行語大賞」が発表され、年間大賞に「村神様」が選ばれた。【映像...          2166  キャン     1  \n",
       "3  1日、今年の「ユーキャン新語・流行語大賞」が発表され、年間大賞に「村神様」が選ばれた。【映像...          2166   新語     1  \n",
       "4  1日、今年の「ユーキャン新語・流行語大賞」が発表され、年間大賞に「村神様」が選ばれた。【映像...          2166   流行     1  "
      ]
     },
     "metadata": {},
     "output_type": "display_data"
    }
   ],
   "source": [
    "df = df.reset_index(drop=True)\n",
    "df_results = pd.DataFrame(columns=['genre', 'title', 'date', 'document', 'comment_count', 'word', 'count'])\n",
    "for  idx, i in enumerate(range(df.shape[0])):\n",
    "    df_result = pd.DataFrame(columns=['genre', 'title', 'date', 'document', 'comment_count', 'word', 'count'])\n",
    "    df_ = df.iloc[[i]]\n",
    "    genre = df_['genre'].values[0]\n",
    "    title = df_['title'].values[0]\n",
    "    date = df_['date'].values[0]\n",
    "    text = df_['document'].values[0]\n",
    "    comment_count = df_['comment_count'].values[0]\n",
    "    if  text is not np.nan:\n",
    "        word_list = get_count(text)\n",
    "        words = [j[0]for j in word_list]\n",
    "        count = [j[1]for j in word_list]\n",
    "        df_result['word'] = words\n",
    "        df_result['count'] = count\n",
    "        df_result['genre'] = genre\n",
    "        df_result['title'] = title\n",
    "        df_result['date'] = date\n",
    "        df_result['document'] = text\n",
    "        df_result['comment_count'] = comment_count\n",
    "        df_results = pd.concat([df_results, df_result], axis=0)\n",
    "\n",
    "display(df_results.head(5))"
   ]
  },
  {
   "cell_type": "code",
   "execution_count": 112,
   "metadata": {
    "id": "fEW9OfyrytBK"
   },
   "outputs": [],
   "source": [
    "df_results_copy = df_results.copy()\n",
    "df_results_copy['genre'] = \"all\"\n",
    "df_results = pd.concat([df_results, df_results_copy], axis=0)"
   ]
  },
  {
   "cell_type": "code",
   "execution_count": 135,
   "metadata": {},
   "outputs": [
    {
     "data": {
      "text/plain": [
       "5      わかめ\n",
       "5      わかめ\n",
       "1     ラーメン\n",
       "1     ラーメン\n",
       "6       代表\n",
       "6       代表\n",
       "26      長田\n",
       "26      長田\n",
       "26      長田\n",
       "26      長田\n",
       "5     FIRE\n",
       "5     FIRE\n",
       "22     テレビ\n",
       "22     テレビ\n",
       "10      デモ\n",
       "10      デモ\n",
       "0       女性\n",
       "20      バズ\n",
       "20      バズ\n",
       "11     タイヤ\n",
       "0       女性\n",
       "11     タイヤ\n",
       "0       女性\n",
       "20      バズ\n",
       "0       女性\n",
       "20      バズ\n",
       "29      視聴\n",
       "29      視聴\n",
       "16      検査\n",
       "16      検査\n",
       "Name: word, dtype: object"
      ]
     },
     "execution_count": 135,
     "metadata": {},
     "output_type": "execute_result"
    }
   ],
   "source": [
    "df_results.sort_values('count', ascending=False)['word'][:30]"
   ]
  },
  {
   "cell_type": "code",
   "execution_count": null,
   "metadata": {
    "id": "IbVJWVThgZzJ"
   },
   "outputs": [],
   "source": [
    "df_results.to_csv('result_yahoo.csv', index = None)"
   ]
  },
  {
   "cell_type": "code",
   "execution_count": null,
   "metadata": {
    "id": "C9UCycSKLwQx"
   },
   "outputs": [],
   "source": []
  }
 ],
 "metadata": {
  "colab": {
   "provenance": []
  },
  "kernelspec": {
   "display_name": "Python 3 (ipykernel)",
   "language": "python",
   "name": "python3"
  },
  "language_info": {
   "codemirror_mode": {
    "name": "ipython",
    "version": 3
   },
   "file_extension": ".py",
   "mimetype": "text/x-python",
   "name": "python",
   "nbconvert_exporter": "python",
   "pygments_lexer": "ipython3",
   "version": "3.8.12"
  }
 },
 "nbformat": 4,
 "nbformat_minor": 1
}
